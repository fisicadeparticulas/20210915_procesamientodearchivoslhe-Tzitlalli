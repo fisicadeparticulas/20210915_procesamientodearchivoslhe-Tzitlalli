{
  "nbformat": 4,
  "nbformat_minor": 0,
  "metadata": {
    "colab": {
      "name": "FiscPart_02_04_MadgraphEvents.ipynb",
      "provenance": [],
      "authorship_tag": "ABX9TyNPEA8XZQAzyQuEjxX6rnwf",
      "include_colab_link": true
    },
    "kernelspec": {
      "name": "python3",
      "display_name": "Python 3"
    },
    "language_info": {
      "name": "python"
    }
  },
  "cells": [
    {
      "cell_type": "markdown",
      "metadata": {
        "id": "view-in-github",
        "colab_type": "text"
      },
      "source": [
        "<a href=\"https://colab.research.google.com/github/fisicadeparticulas/20210915_LecturaDeArchivosCVSyLHEMadgraph/blob/main/FiscPart_02_04_MadgraphEvents.ipynb\" target=\"_parent\"><img src=\"https://colab.research.google.com/assets/colab-badge.svg\" alt=\"Open In Colab\"/></a>"
      ]
    },
    {
      "cell_type": "markdown",
      "metadata": {
        "id": "h1AnQBlUrmWK"
      },
      "source": [
        "# Procesando el archivo de salida de MadGraph en formato LHE usando bash."
      ]
    },
    {
      "cell_type": "markdown",
      "metadata": {
        "id": "QfZP-CDdvUEn"
      },
      "source": [
        "Usamos bash/shell para extraer los renglones que nos interesan del archivo \"*.lhe\", recuede que es posible que los archivos creados se borren cuando sale de la rutina. "
      ]
    },
    {
      "cell_type": "code",
      "metadata": {
        "id": "e6MaEmbIrxYP"
      },
      "source": [
        "%shell\n",
        "!cat /content/unweighted_events.lhe | grep \"13  \" | awk '{print $7\", \"$8\", \"$9\", \"$10}' > /content/eventos_pxpypzE.csv\n"
      ],
      "execution_count": 10,
      "outputs": []
    },
    {
      "cell_type": "markdown",
      "metadata": {
        "id": "gmQDegfdx86S"
      },
      "source": [
        "# Plot the cuadri-vectores generados por MadGraph\n",
        "\n"
      ]
    },
    {
      "cell_type": "markdown",
      "metadata": {
        "id": "Rkif_7FGxgOH"
      },
      "source": [
        "Usamos python para gráficar el contenido del archivo cvs generado en el paso anterior."
      ]
    },
    {
      "cell_type": "code",
      "metadata": {
        "colab": {
          "base_uri": "https://localhost:8080/",
          "height": 266
        },
        "id": "AN42hy7E_KcC",
        "outputId": "e3e8b9bb-b9a3-4725-ee92-aaf66230f4a8"
      },
      "source": [
        "import pandas as pd\n",
        "import numpy as np\n",
        "import matplotlib.pyplot as plt\n",
        "from scipy.stats import norm\n",
        "\n",
        "#events = pd.read_csv('https://cernbox.cern.ch/index.php/s/5n2wG7OD7a0wYXX/download')\n",
        "#desde drive, dar permisos en el ícono de folder de la izquierda en la tab de drive\n",
        "events=pd.read_csv(\"/content/eventos_pxpypzE.csv\") \n",
        "events.head()\n",
        "\n",
        "#data = np.genfromtxt(\"https://cernbox.cern.ch/index.php/s/5n2wG7OD7a0wYXX/download\", delimiter=\", \", names=[\"px\",\"py\",\"pz\",\"E\"] )\n",
        "data = np.genfromtxt(\"/content/eventos_pxpypzE.csv\", delimiter=\", \", names=[\"px\",\"py\",\"pz\",\"E\"] )\n",
        "#plt.plot(data['px'])\n",
        "#plt.hist(data['px'])\n",
        "#momento transverso\n",
        "plt.hist(np.sqrt(data['px']*data['px']+data['py']*data['py']))\n",
        "#momento \n",
        "#plt.hist(np.sqrt(data['px']*data['px']+data['py']*data['py']+data['pz']*data['pz']))\n",
        "plt.show()"
      ],
      "execution_count": 11,
      "outputs": [
        {
          "output_type": "display_data",
          "data": {
            "image/png": "[encoded data removed]",
            "text/plain": [
              "<Figure size 432x288 with 1 Axes>"
            ]
          },
          "metadata": {
            "needs_background": "light"
          }
        }
      ]
    },
    {
      "cell_type": "markdown",
      "metadata": {
        "id": "ajhS91bZoi0i"
      },
      "source": [
        "# Generar el archivo que pone en un solo renglón la información de los dos muones."
      ]
    },
    {
      "cell_type": "markdown",
      "metadata": {
        "id": "nb0O5yt8xmfB"
      },
      "source": [
        "Usamos python para leer el archivo csv generado en el primer paso y crear un archivo que ponga en un solo renglón los datos de los dos muones en cada evento. Note que: se podría graficar directamente sin necesidad de crear el archivo. "
      ]
    },
    {
      "cell_type": "markdown",
      "metadata": {
        "id": "6wrQsGHmrLn9"
      },
      "source": [
        "**¡Por favor revise que los datos se están guardando correctamente!** es \n",
        "\n",
        "---\n",
        "\n",
        "posible que el código necesite algunos ajustes. "
      ]
    },
    {
      "cell_type": "code",
      "metadata": {
        "id": "gcNnrPS6NuV7",
        "colab": {
          "base_uri": "https://localhost:8080/"
        },
        "outputId": "60b368cf-4683-447a-ec2c-229f72a8118c"
      },
      "source": [
        "\"\"\"\n",
        "Created on Wed Sep 15 17:01:01 2021\n",
        "@author: alancovamo/fisicaparticulas\n",
        "modified by isapedraza on September 17 : adding the file saving on drive. \n",
        "\"\"\"\n",
        "import pandas as pd\n",
        "import csv\n",
        "import numpy as np      \n",
        "import matplotlib.pyplot as plt\n",
        "from google.colab import drive\n",
        "drive.mount('/content/drive')\n",
        "\n",
        "#montamos los datos a la memoria\n",
        "df = pd.read_table('/content/eventos_pxpypzE.csv',delimiter=',',header=None)\n",
        "\n",
        "#localiza los renglones pares del arreglo df.\n",
        "df_1=df.iloc[lambda x: x.index % 2 == 0]\n",
        "#reinicia el indice del arreglo con los renglones pares del archivo original\n",
        "df_1=df_1.reset_index(drop=True)\n",
        "\n",
        "#localizar los renglones impares\n",
        "df_2=df.iloc[lambda x: x.index % 2 != 0]\n",
        "#reinicia el indice del arreglo  con los renglones impares del archivo original\n",
        "df_2=df_2.reset_index(drop=True)\n",
        "\n",
        "\n",
        "df_1.rename(columns= {df_1.columns[0]: 'px',\n",
        "                      df_1.columns[1]: 'py',\n",
        "                      df_1.columns[2]: 'pz',\n",
        "                      df_1.columns[3]: 'E'}, inplace=True)\n",
        "df_2.rename(columns= {df_2.columns[0]: 'px*',\n",
        "                      df_2.columns[1]: 'py*',\n",
        "                      df_2.columns[2]: 'pz*',\n",
        "                      df_2.columns[3]: 'E*'}, inplace=True)\n",
        "\n",
        "\n",
        "df_3=df_1.join(df_2)\n",
        "print(df_3.head())\n",
        "\n",
        "df_3.to_csv('/content/mumu.csv')\n",
        "\n"
      ],
      "execution_count": 17,
      "outputs": [
        {
          "output_type": "stream",
          "name": "stdout",
          "text": [
            "Drive already mounted at /content/drive; to attempt to forcibly remount, call drive.mount(\"/content/drive\", force_remount=True).\n",
            "          px         py          pz  ...        py*         pz*          E*\n",
            "0 -25.416007  35.010752   86.334113  ... -35.010752   39.850978   58.820291\n",
            "1  15.612459 -33.486087   15.291070  ...  33.486087  102.211484  108.684196\n",
            "2 -12.683705  15.981324  111.997587  ... -15.981324  -11.016872   23.187293\n",
            "3  13.174934  42.043646  -19.199519  ... -42.043646  -42.374808   61.129955\n",
            "4 -37.019273  -4.414691   77.437419  ...   4.414691  156.310601  160.695115\n",
            "\n",
            "[5 rows x 8 columns]\n"
          ]
        }
      ]
    },
    {
      "cell_type": "markdown",
      "metadata": {
        "id": "0M-ddKE0yJGx"
      },
      "source": [
        "# Gráfica de la masa invariante de la suma de los cuadrivetores de los dos muones del evento. "
      ]
    },
    {
      "cell_type": "code",
      "metadata": {
        "id": "hiaCX4Q1o_Uw"
      },
      "source": [
        ""
      ],
      "execution_count": null,
      "outputs": []
    }
  ]
}